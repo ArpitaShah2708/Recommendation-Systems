{
 "cells": [
  {
   "cell_type": "code",
   "execution_count": 1,
   "metadata": {},
   "outputs": [],
   "source": [
    "import findspark\n",
    "findspark.init()"
   ]
  },
  {
   "cell_type": "code",
   "execution_count": 2,
   "metadata": {},
   "outputs": [],
   "source": [
    "from pyspark.sql import SparkSession, SQLContext\n",
    "from pyspark.ml.recommendation import ALS\n",
    "from pyspark.ml.feature import StringIndexer\n",
    "from pyspark.ml.evaluation import RegressionEvaluator"
   ]
  },
  {
   "cell_type": "code",
   "execution_count": 3,
   "metadata": {},
   "outputs": [],
   "source": [
    "spark = SparkSession\\\n",
    "    .builder\\\n",
    "    .appName(\"Recommendation_Systems\")\\\n",
    "    .getOrCreate()\n",
    "    \n",
    "sqlContext = SQLContext(spark)"
   ]
  },
  {
   "cell_type": "markdown",
   "metadata": {},
   "source": [
    "#### 1. Recommendation\n",
    "\n",
    "Here I use 3 datasets -\n",
    "\n",
    "  (i) Movie ratings"
   ]
  },
  {
   "cell_type": "code",
   "execution_count": 4,
   "metadata": {},
   "outputs": [],
   "source": [
    "# Reading the data\n",
    "set1 = spark.read.csv(\"recommendation_system_train.csv\", header=True)"
   ]
  },
  {
   "cell_type": "code",
   "execution_count": 5,
   "metadata": {},
   "outputs": [
    {
     "name": "stdout",
     "output_type": "stream",
     "text": [
      "+----+-----+------+---------+\n",
      "|user|movie|rating|       id|\n",
      "+----+-----+------+---------+\n",
      "|2783| 1253|     5|2783_1253|\n",
      "|2783|  589|     5| 2783_589|\n",
      "|2783| 1270|     4|2783_1270|\n",
      "|2783| 1274|     4|2783_1274|\n",
      "|2783|  741|     5| 2783_741|\n",
      "+----+-----+------+---------+\n",
      "only showing top 5 rows\n",
      "\n",
      "Number of rows = 500100\n",
      "Number of columns = 4\n"
     ]
    },
    {
     "data": {
      "text/plain": [
       "['user', 'movie', 'rating', 'id']"
      ]
     },
     "execution_count": 5,
     "metadata": {},
     "output_type": "execute_result"
    }
   ],
   "source": [
    "# Looking at the first five rows of the Dataframe\n",
    "set1.show(5)\n",
    "\n",
    "# Checking the dimensions of the Dataframe\n",
    "print(\"Number of rows = \" + str(set1.count()))\n",
    "print(\"Number of columns = \" + str(len(set1.columns)))\n",
    "\n",
    "# Column names\n",
    "set1.columns"
   ]
  },
  {
   "cell_type": "code",
   "execution_count": 6,
   "metadata": {},
   "outputs": [
    {
     "name": "stdout",
     "output_type": "stream",
     "text": [
      "+-------+------------------+\n",
      "|summary|            rating|\n",
      "+-------+------------------+\n",
      "|  count|            500100|\n",
      "|   mean|3.6022235552889423|\n",
      "| stddev| 1.114687505188166|\n",
      "|    min|                 1|\n",
      "|    max|                 5|\n",
      "+-------+------------------+\n",
      "\n"
     ]
    },
    {
     "data": {
      "text/plain": [
       "3255"
      ]
     },
     "execution_count": 6,
     "metadata": {},
     "output_type": "execute_result"
    }
   ],
   "source": [
    "# Summary statistics of rating\n",
    "set1.describe('rating').show()\n",
    "\n",
    "# Number of distinct users in the dataset\n",
    "set1.select('user').distinct().count()"
   ]
  },
  {
   "cell_type": "code",
   "execution_count": 7,
   "metadata": {},
   "outputs": [],
   "source": [
    "# read.csv reads everything into string format\n",
    "# Pre-processing the data to match the required format\n",
    "set1 = set1.withColumn(\"user\", set1[\"user\"].cast(\"double\"))\n",
    "set1 = set1.withColumn(\"movie\", set1[\"movie\"].cast(\"double\"))\n",
    "set1 = set1.withColumn(\"rating\", set1[\"rating\"].cast(\"double\"))\n",
    "\n",
    "# Splitting the data into train (75%) and test (25%)\n",
    "(train1, test1) = set1.randomSplit([0.75,0.25], seed=0)"
   ]
  },
  {
   "cell_type": "code",
   "execution_count": 8,
   "metadata": {},
   "outputs": [],
   "source": [
    "# Fit the recommendation model on training set\n",
    "als1 = ALS(maxIter=5, regParam=0.05, userCol=\"user\", itemCol=\"movie\", ratingCol=\"rating\",\n",
    "          coldStartStrategy=\"drop\")\n",
    "model1 = als1.fit(train1)"
   ]
  },
  {
   "cell_type": "code",
   "execution_count": 9,
   "metadata": {},
   "outputs": [
    {
     "name": "stdout",
     "output_type": "stream",
     "text": [
      "Root mean-squared error = 0.8878323656201714\n"
     ]
    }
   ],
   "source": [
    "# Model evaluator on the test data\n",
    "evaluator = RegressionEvaluator(metricName=\"rmse\", labelCol=\"rating\", predictionCol=\"prediction\")\n",
    "\n",
    "# Prediction and model evaluation\n",
    "predict1 = model1.transform(test1)\n",
    "rmse1 = evaluator.evaluate(predict1)\n",
    "print(\"Root mean-squared error = \" + str(rmse1))"
   ]
  },
  {
   "cell_type": "code",
   "execution_count": 10,
   "metadata": {},
   "outputs": [
    {
     "name": "stdout",
     "output_type": "stream",
     "text": [
      "+----+--------------------+\n",
      "|user|     recommendations|\n",
      "+----+--------------------+\n",
      "|4900|[[2493, 6.0862775...|\n",
      "|5300|[[1570, 6.615103]...|\n",
      "|4101|[[2834, 6.4760494...|\n",
      "|5803|[[2128, 5.557115]...|\n",
      "|3794|[[3720, 4.901862]...|\n",
      "+----+--------------------+\n",
      "only showing top 5 rows\n",
      "\n",
      "+-----+--------------------+\n",
      "|movie|     recommendations|\n",
      "+-----+--------------------+\n",
      "| 1580|[[3902, 5.275666]...|\n",
      "|  471|[[2988, 6.0639215...|\n",
      "| 1591|[[2867, 4.310448]...|\n",
      "| 1342|[[4801, 5.0251055...|\n",
      "| 2122|[[5670, 5.182676]...|\n",
      "+-----+--------------------+\n",
      "only showing top 5 rows\n",
      "\n"
     ]
    }
   ],
   "source": [
    "# Generate top 3 movie recommendations for each user\n",
    "userRecs1 = model1.recommendForAllUsers(3)\n",
    "userRecs1.show(5)\n",
    "\n",
    "# Generate top 3 user recommendations for each movie\n",
    "movieRecs1 = model1.recommendForAllItems(3)\n",
    "movieRecs1.show(5)"
   ]
  },
  {
   "cell_type": "code",
   "execution_count": 11,
   "metadata": {},
   "outputs": [
    {
     "name": "stdout",
     "output_type": "stream",
     "text": [
      "+----+--------------------+\n",
      "|user|     recommendations|\n",
      "+----+--------------------+\n",
      "|2815|[[2197, 5.0955935...|\n",
      "+----+--------------------+\n",
      "\n",
      "+-----+--------------------+\n",
      "|movie|     recommendations|\n",
      "+-----+--------------------+\n",
      "| 2734|[[5756, 4.7449493...|\n",
      "+-----+--------------------+\n",
      "\n"
     ]
    }
   ],
   "source": [
    "# Generate top 3 movie recommendations for a specified user\n",
    "user1 = set1.select(als1.getUserCol()).distinct().limit(1)\n",
    "userSubsetRecs1 = model1.recommendForUserSubset(user1, 3)\n",
    "userSubsetRecs1.show()\n",
    "\n",
    "# Generate top 3 user recommendations for a specified movie\n",
    "movie1 = set1.select(als1.getItemCol()).distinct().limit(1)\n",
    "movieSubSetRecs1 = model1.recommendForItemSubset(movie1, 3)\n",
    "movieSubSetRecs1.show()"
   ]
  },
  {
   "cell_type": "markdown",
   "metadata": {},
   "source": [
    "(ii) Musical Instruments Ratings"
   ]
  },
  {
   "cell_type": "code",
   "execution_count": 12,
   "metadata": {},
   "outputs": [],
   "source": [
    "# Read the data\n",
    "set2 = spark.read.csv(\"ratings_Musical_Instruments.csv\")"
   ]
  },
  {
   "cell_type": "code",
   "execution_count": 13,
   "metadata": {},
   "outputs": [
    {
     "name": "stdout",
     "output_type": "stream",
     "text": [
      "+--------------+----------+---+----------+\n",
      "|           _c0|       _c1|_c2|       _c3|\n",
      "+--------------+----------+---+----------+\n",
      "|A1YS9MDZP93857|0006428320|3.0|1394496000|\n",
      "|A3TS466QBAWB9D|0014072149|5.0|1370476800|\n",
      "|A3BUDYITWUSIS7|0041291905|5.0|1381708800|\n",
      "|A19K10Z0D2NTZK|0041913574|5.0|1285200000|\n",
      "|A14X336IB4JD89|0201891859|1.0|1350432000|\n",
      "+--------------+----------+---+----------+\n",
      "only showing top 5 rows\n",
      "\n",
      "Number of rows = 500176\n",
      "Number of columns = 4\n"
     ]
    },
    {
     "data": {
      "text/plain": [
       "['_c0', '_c1', '_c2', '_c3']"
      ]
     },
     "execution_count": 13,
     "metadata": {},
     "output_type": "execute_result"
    }
   ],
   "source": [
    "# Looking at the first five rows of the Dataframe\n",
    "set2.show(5)\n",
    "\n",
    "# Checking the dimensions of the Dataframe\n",
    "print(\"Number of rows = \" + str(set2.count()))\n",
    "print(\"Number of columns = \" + str(len(set2.columns)))\n",
    "\n",
    "# Column names\n",
    "set2.columns"
   ]
  },
  {
   "cell_type": "code",
   "execution_count": 14,
   "metadata": {},
   "outputs": [
    {
     "name": "stdout",
     "output_type": "stream",
     "text": [
      "+---------+------+----------+--------+\n",
      "|     item|rating| timestamp|  userID|\n",
      "+---------+------+----------+--------+\n",
      "|  6428320|   3.0|1394496000|  5092.0|\n",
      "| 14072149|   5.0|1370476800| 15198.0|\n",
      "| 41291905|   5.0|1381708800| 50865.0|\n",
      "| 41913574|   5.0|1285200000|309908.0|\n",
      "|201891859|   1.0|1350432000| 56317.0|\n",
      "+---------+------+----------+--------+\n",
      "only showing top 5 rows\n",
      "\n"
     ]
    }
   ],
   "source": [
    "# Processing the Dataframe\n",
    "# Rename the columns\n",
    "set2 = set2.withColumnRenamed(\"_c0\", \"user\")\n",
    "set2 = set2.withColumnRenamed(\"_c1\", \"item\")\n",
    "set2 = set2.withColumnRenamed(\"_c2\", \"rating\")\n",
    "set2 = set2.withColumnRenamed(\"_c3\", \"timestamp\")\n",
    "# Change the column types to match the required format\n",
    "set2 = set2.withColumn(\"item\", set2[\"item\"].cast(\"integer\"))\n",
    "set2 = set2.withColumn(\"rating\", set2[\"rating\"].cast(\"double\"))\n",
    "\n",
    "# Converting userID to numeric\n",
    "stringIndexer = StringIndexer(inputCol=\"user\", outputCol=\"userID\")\n",
    "model = stringIndexer.fit(set2)\n",
    "indexed = model.transform(set2)\n",
    "indexed = indexed.drop(\"user\")\n",
    "indexed.show(5)\n",
    "\n",
    "# Dropping the rows with NULL values\n",
    "indexed = indexed.filter(indexed.item. isNotNull())\n",
    "indexed = indexed.filter(indexed.rating. isNotNull())\n",
    "indexed = indexed.filter(indexed.userID. isNotNull())"
   ]
  },
  {
   "cell_type": "code",
   "execution_count": 15,
   "metadata": {},
   "outputs": [
    {
     "name": "stdout",
     "output_type": "stream",
     "text": [
      "Root mean-squared error = 3.905666118018867\n"
     ]
    }
   ],
   "source": [
    "# Splitting the data into train (75%) and test (25%)\n",
    "(train2, test2) = indexed.randomSplit([0.75,0.25], seed=0)\n",
    "\n",
    "# Fit the recommendation model on training set\n",
    "als2 = ALS(maxIter=5, regParam=0.05, userCol=\"userID\", itemCol=\"item\", ratingCol=\"rating\",\n",
    "          coldStartStrategy=\"drop\")\n",
    "model2 = als2.fit(train2)\n",
    "\n",
    "# Prediction and model evaluation\n",
    "predict2 = model2.transform(test2)\n",
    "rmse2 = evaluator.evaluate(predict2)\n",
    "print(\"Root mean-squared error = \" + str(rmse2))"
   ]
  },
  {
   "cell_type": "code",
   "execution_count": 16,
   "metadata": {},
   "outputs": [
    {
     "name": "stdout",
     "output_type": "stream",
     "text": [
      "+------+--------------------+\n",
      "|userID|     recommendations|\n",
      "+------+--------------------+\n",
      "|245390|[[634061801, 14.5...|\n",
      "| 68202|[[14072149, 4.351...|\n",
      "|131213|[[634061801, 5.81...|\n",
      "| 63964|[[634061801, 14.5...|\n",
      "|194974|[[634061801, 8.72...|\n",
      "+------+--------------------+\n",
      "only showing top 5 rows\n",
      "\n",
      "+----------+--------------------+\n",
      "|      item|     recommendations|\n",
      "+----------+--------------------+\n",
      "|1933098465|[[166, 6.145127],...|\n",
      "| 634029355|[[285214, 4.98478...|\n",
      "|1423465180|[[278066, 3.98176...|\n",
      "| 739046500|[[79730, 4.975225...|\n",
      "| 767851013|[[35421, 4.961478...|\n",
      "+----------+--------------------+\n",
      "only showing top 5 rows\n",
      "\n"
     ]
    }
   ],
   "source": [
    "# Generate top 3 musical instruments recommendations for each user\n",
    "userRecs2 = model2.recommendForAllUsers(3)\n",
    "userRecs2.show(5)\n",
    "\n",
    "# Generate top 3 user recommendations for each musical instrument\n",
    "musicRecs2 = model2.recommendForAllItems(3)\n",
    "musicRecs2.show(5)"
   ]
  },
  {
   "cell_type": "markdown",
   "metadata": {},
   "source": [
    "(iii) Restaurant Data with Consumer Ratings"
   ]
  },
  {
   "cell_type": "code",
   "execution_count": 17,
   "metadata": {},
   "outputs": [
    {
     "name": "stdout",
     "output_type": "stream",
     "text": [
      "+------+-------+------+-----------+--------------+\n",
      "|userID|placeID|rating|food_rating|service_rating|\n",
      "+------+-------+------+-----------+--------------+\n",
      "| U1077| 135085|     2|          2|             2|\n",
      "| U1077| 135038|     2|          2|             1|\n",
      "| U1077| 132825|     2|          2|             2|\n",
      "| U1077| 135060|     1|          2|             2|\n",
      "| U1068| 135104|     1|          1|             2|\n",
      "+------+-------+------+-----------+--------------+\n",
      "only showing top 5 rows\n",
      "\n",
      "Number of rows = 1161\n",
      "Number of columns = 5\n"
     ]
    },
    {
     "data": {
      "text/plain": [
       "['userID', 'placeID', 'rating', 'food_rating', 'service_rating']"
      ]
     },
     "execution_count": 17,
     "metadata": {},
     "output_type": "execute_result"
    }
   ],
   "source": [
    "# Read the data\n",
    "# No pre-processing is required for data structure\n",
    "set3 = sqlContext.read.format('com.databricks.spark.csv').options(header='true', inferschema='true').load('rating_final.csv')\n",
    "\n",
    "# Looking at the first five rows of the Dataframe\n",
    "set3.show(5)\n",
    "\n",
    "# Checking the dimensions of the Dataframe\n",
    "print(\"Number of rows = \" + str(set3.count()))\n",
    "print(\"Number of columns = \" + str(len(set3.columns)))\n",
    "\n",
    "# Column names\n",
    "set3.columns"
   ]
  },
  {
   "cell_type": "code",
   "execution_count": 18,
   "metadata": {},
   "outputs": [
    {
     "name": "stdout",
     "output_type": "stream",
     "text": [
      "+-------+------+-----------+--------------+-----+\n",
      "|placeID|rating|food_rating|service_rating| user|\n",
      "+-------+------+-----------+--------------+-----+\n",
      "| 135085|     2|          2|             2|112.0|\n",
      "| 135038|     2|          2|             1|112.0|\n",
      "| 132825|     2|          2|             2|112.0|\n",
      "| 135060|     1|          2|             2|112.0|\n",
      "| 135104|     1|          1|             2| 81.0|\n",
      "+-------+------+-----------+--------------+-----+\n",
      "only showing top 5 rows\n",
      "\n"
     ]
    }
   ],
   "source": [
    "# Processing the Dataframe\n",
    "# Mapping userID to numeric type\n",
    "stringIndexer = StringIndexer(inputCol=\"userID\", outputCol=\"user\")\n",
    "model = stringIndexer.fit(set3)\n",
    "indexed3 = model.transform(set3)\n",
    "indexed3 = indexed3.drop(\"userID\")\n",
    "indexed3.show(5)"
   ]
  },
  {
   "cell_type": "code",
   "execution_count": 19,
   "metadata": {},
   "outputs": [
    {
     "name": "stdout",
     "output_type": "stream",
     "text": [
      "Root mean-squared error = 0.931323092008272\n"
     ]
    }
   ],
   "source": [
    "# Splitting the data into train (75%) and test (25%)\n",
    "(train3, test3) = indexed3.randomSplit([0.75,0.25], seed=0)\n",
    "\n",
    "# Fit the recommendation model on training set\n",
    "als3 = ALS(maxIter=5, regParam=0.02, userCol=\"user\", itemCol=\"placeID\", ratingCol=\"rating\",\n",
    "          coldStartStrategy=\"drop\")\n",
    "model3 = als3.fit(train3)\n",
    "\n",
    "# Prediction and model evaluation\n",
    "predict3 = model3.transform(test3)\n",
    "rmse3 = evaluator.evaluate(predict3)\n",
    "print(\"Root mean-squared error = \" + str(rmse3))"
   ]
  },
  {
   "cell_type": "code",
   "execution_count": 20,
   "metadata": {},
   "outputs": [
    {
     "name": "stdout",
     "output_type": "stream",
     "text": [
      "+----+--------------------+\n",
      "|user|     recommendations|\n",
      "+----+--------------------+\n",
      "|  31|[[135039, 1.87082...|\n",
      "|  85|[[134986, 1.98203...|\n",
      "| 137|[[135013, 1.70137...|\n",
      "|  65|[[135057, 2.01050...|\n",
      "|  53|[[135034, 2.45141...|\n",
      "+----+--------------------+\n",
      "only showing top 5 rows\n",
      "\n",
      "+-------+--------------------+\n",
      "|placeID|     recommendations|\n",
      "+-------+--------------------+\n",
      "| 135000|[[11, 2.2330902],...|\n",
      "| 135027|[[52, 1.9609578],...|\n",
      "| 135066|[[46, 2.0773256],...|\n",
      "| 132663|[[48, 1.0813923],...|\n",
      "| 135108|[[29, 2.020702], ...|\n",
      "+-------+--------------------+\n",
      "only showing top 5 rows\n",
      "\n"
     ]
    }
   ],
   "source": [
    "# Generate top 3 restaurant recommendations for each user\n",
    "userRecs3 = model3.recommendForAllUsers(3)\n",
    "userRecs3.show(5)\n",
    "\n",
    "# Generate top 3 user recommendations for each restaurant\n",
    "foodRecs3 = model3.recommendForAllItems(3)\n",
    "foodRecs3.show(5)"
   ]
  }
 ],
 "metadata": {
  "kernelspec": {
   "display_name": "Python 3",
   "language": "python",
   "name": "python3"
  },
  "language_info": {
   "codemirror_mode": {
    "name": "ipython",
    "version": 3
   },
   "file_extension": ".py",
   "mimetype": "text/x-python",
   "name": "python",
   "nbconvert_exporter": "python",
   "pygments_lexer": "ipython3",
   "version": "3.6.3"
  }
 },
 "nbformat": 4,
 "nbformat_minor": 2
}
